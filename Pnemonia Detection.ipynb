{
 "cells": [
  {
   "cell_type": "code",
   "execution_count": 1,
   "metadata": {},
   "outputs": [],
   "source": [
    "import keras\n",
    "from keras.callbacks import ReduceLROnPlateau\n",
    "from keras.models import Sequential\n",
    "from keras.layers import Dense , Conv2D , MaxPooling2D , Flatten , Dropout , BatchNormalization\n",
    "from keras.applications import ResNet152V2 , MobileNetV2\n",
    "from keras.preprocessing.image import ImageDataGenerator\n",
    "import cv2\n",
    "import os\n",
    "import matplotlib.pyplot as plt\n",
    "import numpy as np"
   ]
  },
  {
   "cell_type": "code",
   "execution_count": 2,
   "metadata": {},
   "outputs": [],
   "source": [
    "labels = ['PNEUMONIA', 'NORMAL']\n",
    "img_size = 150\n",
    "\n",
    "def get_data(data_dir):\n",
    "    data = []\n",
    "    for label in labels:\n",
    "        path = os.path.join(data_dir,label)\n",
    "        class_num = labels.index(label)\n",
    "        for img in os.listdir(path):\n",
    "            try:\n",
    "                new_img = cv2.imread(os.path.join(path,img),cv2.IMREAD_GRAYSCALE)\n",
    "                resized_img = cv2.resize(new_img,(img_size,img_size))\n",
    "                data.append([resized_img,class_num])\n",
    "            except:\n",
    "                continue\n",
    "    return np.array(data)      \n",
    "    "
   ]
  },
  {
   "cell_type": "code",
   "execution_count": 3,
   "metadata": {
    "scrolled": true
   },
   "outputs": [
    {
     "name": "stderr",
     "output_type": "stream",
     "text": [
      "C:\\Users\\Home\\anaconda3\\lib\\site-packages\\ipykernel_launcher.py:16: VisibleDeprecationWarning: Creating an ndarray from ragged nested sequences (which is a list-or-tuple of lists-or-tuples-or ndarrays with different lengths or shapes) is deprecated. If you meant to do this, you must specify 'dtype=object' when creating the ndarray\n",
      "  app.launch_new_instance()\n"
     ]
    }
   ],
   "source": [
    "train = get_data('E:/Chest X-Ray Images/chest_xray/chest_xray/train')\n",
    "test = get_data('E:/Chest X-Ray Images/chest_xray/chest_xray/test')\n",
    "val = get_data('E:/Chest X-Ray Images/chest_xray/chest_xray/val')"
   ]
  },
  {
   "cell_type": "code",
   "execution_count": 5,
   "metadata": {},
   "outputs": [],
   "source": [
    "X_train = []\n",
    "y_train = []\n",
    "\n",
    "X_test = []\n",
    "y_test = []\n",
    "\n",
    "X_val = []\n",
    "y_val = []\n",
    "\n",
    "for img,label in train:\n",
    "    X_train.append(img)\n",
    "    y_train.append(label)\n",
    "\n",
    "for img,label in test:\n",
    "    X_test.append(img)\n",
    "    y_test.append(label)\n",
    "\n",
    "for img,label in val:\n",
    "    X_val.append(img)\n",
    "    y_val.append(label)\n"
   ]
  },
  {
   "cell_type": "code",
   "execution_count": 6,
   "metadata": {},
   "outputs": [
    {
     "data": {
      "text/plain": [
       "16"
      ]
     },
     "execution_count": 6,
     "metadata": {},
     "output_type": "execute_result"
    }
   ],
   "source": [
    "X_train = np.array(X_train)/255\n",
    "X_test = np.array(X_test)/255\n",
    "X_val = np.array(X_val)/255\n",
    "\n",
    "X_train = X_train.reshape(-1,img_size,img_size,1)\n",
    "X_test = X_test.reshape(-1,img_size,img_size,1)\n",
    "X_val = X_val.reshape(-1,img_size,img_size,1)\n",
    "\n",
    "y_train = np.array(y_train)\n",
    "y_test = np.array(y_test)\n",
    "y_val = np.array(y_val)\n"
   ]
  },
  {
   "cell_type": "code",
   "execution_count": 7,
   "metadata": {},
   "outputs": [],
   "source": [
    "# With data augmentation to prevent overfitting and handling the imbalance in dataset\n",
    "\n",
    "datagen = ImageDataGenerator(\n",
    "        featurewise_center=False,  # set input mean to 0 over the dataset\n",
    "        samplewise_center=False,  # set each sample mean to 0\n",
    "        featurewise_std_normalization=False,  # divide inputs by std of the dataset\n",
    "        samplewise_std_normalization=False,  # divide each input by its std\n",
    "        zca_whitening=False,  # apply ZCA whitening\n",
    "        rotation_range = 30,  # randomly rotate images in the range (degrees, 0 to 180)\n",
    "        zoom_range = 0.2, # Randomly zoom image \n",
    "        width_shift_range=0.1,  # randomly shift images horizontally (fraction of total width)\n",
    "        height_shift_range=0.1,  # randomly shift images vertically (fraction of total height)\n",
    "        horizontal_flip = True,  # randomly flip images\n",
    "        vertical_flip=False)  # randomly flip images\n",
    "\n",
    "\n",
    "datagen.fit(X_train)"
   ]
  },
  {
   "cell_type": "code",
   "execution_count": 7,
   "metadata": {},
   "outputs": [
    {
     "name": "stdout",
     "output_type": "stream",
     "text": [
      "Model: \"sequential\"\n",
      "_________________________________________________________________\n",
      "Layer (type)                 Output Shape              Param #   \n",
      "=================================================================\n",
      "conv2d (Conv2D)              (None, 150, 150, 64)      640       \n",
      "_________________________________________________________________\n",
      "max_pooling2d (MaxPooling2D) (None, 75, 75, 64)        0         \n",
      "_________________________________________________________________\n",
      "conv2d_1 (Conv2D)            (None, 75, 75, 64)        36928     \n",
      "_________________________________________________________________\n",
      "max_pooling2d_1 (MaxPooling2 (None, 38, 38, 64)        0         \n",
      "_________________________________________________________________\n",
      "conv2d_2 (Conv2D)            (None, 38, 38, 128)       73856     \n",
      "_________________________________________________________________\n",
      "max_pooling2d_2 (MaxPooling2 (None, 19, 19, 128)       0         \n",
      "_________________________________________________________________\n",
      "conv2d_3 (Conv2D)            (None, 19, 19, 256)       295168    \n",
      "_________________________________________________________________\n",
      "max_pooling2d_3 (MaxPooling2 (None, 10, 10, 256)       0         \n",
      "_________________________________________________________________\n",
      "flatten (Flatten)            (None, 25600)             0         \n",
      "_________________________________________________________________\n",
      "dense (Dense)                (None, 128)               3276928   \n",
      "_________________________________________________________________\n",
      "dense_1 (Dense)              (None, 1)                 129       \n",
      "=================================================================\n",
      "Total params: 3,683,649\n",
      "Trainable params: 3,683,649\n",
      "Non-trainable params: 0\n",
      "_________________________________________________________________\n"
     ]
    }
   ],
   "source": [
    "#CNN Model without BatchNormalization and Dropout\n",
    "\n",
    "model = Sequential()\n",
    "model.add(Conv2D(filters = 64,kernel_size = (3,3), strides = 1, padding='same', input_shape = (img_size,img_size,1), activation=\"relu\"))\n",
    "model.add(MaxPooling2D((2,2),strides = 2,padding='same'))\n",
    "\n",
    "model.add(Conv2D(filters = 64,kernel_size = (3,3), strides = 1, padding='same', activation=\"relu\"))\n",
    "model.add(MaxPooling2D((2,2),strides = 2,padding='same'))\n",
    "\n",
    "\n",
    "model.add(Conv2D(filters = 128,kernel_size = (3,3), strides = 1, padding='same', activation=\"relu\"))\n",
    "model.add(MaxPooling2D((2,2),strides = 2,padding='same'))\n",
    "\n",
    "model.add(Conv2D(filters = 256,kernel_size = (3,3), strides = 1, padding='same', activation=\"relu\"))\n",
    "model.add(MaxPooling2D((2,2),strides = 2,padding='same'))\n",
    "\n",
    "model.add(Flatten()),\n",
    "model.add(Dense(units=128,activation=\"relu\"))\n",
    "model.add(Dense(units=1,activation=\"sigmoid\"))\n",
    "\n",
    "model.compile(\n",
    "    optimizer=\"adam\",\n",
    "    loss = \"binary_crossentropy\",\n",
    "    metrics=['accuracy']\n",
    ")\n",
    "model.summary()"
   ]
  },
  {
   "cell_type": "code",
   "execution_count": 11,
   "metadata": {},
   "outputs": [
    {
     "name": "stdout",
     "output_type": "stream",
     "text": [
      "Epoch 1/10\n",
      "163/163 [==============================] - 396s 2s/step - loss: 0.1638 - accuracy: 0.9333 - val_loss: 0.3781 - val_accuracy: 0.8638\n",
      "Epoch 2/10\n",
      "163/163 [==============================] - 409s 3s/step - loss: 0.1584 - accuracy: 0.9362 - val_loss: 0.5906 - val_accuracy: 0.8237\n",
      "Epoch 3/10\n",
      "163/163 [==============================] - 439s 3s/step - loss: 0.1506 - accuracy: 0.9394 - val_loss: 0.6245 - val_accuracy: 0.8157\n",
      "Epoch 4/10\n",
      "163/163 [==============================] - 443s 3s/step - loss: 0.1451 - accuracy: 0.9421 - val_loss: 0.5492 - val_accuracy: 0.7804\n",
      "Epoch 5/10\n",
      "163/163 [==============================] - 388s 2s/step - loss: 0.1483 - accuracy: 0.9413 - val_loss: 0.5330 - val_accuracy: 0.8125\n",
      "Epoch 6/10\n",
      "163/163 [==============================] - 372s 2s/step - loss: 0.1375 - accuracy: 0.9469 - val_loss: 0.5826 - val_accuracy: 0.7965\n",
      "Epoch 7/10\n",
      "163/163 [==============================] - 372s 2s/step - loss: 0.1346 - accuracy: 0.9440 - val_loss: 0.5673 - val_accuracy: 0.7949\n",
      "Epoch 8/10\n",
      "163/163 [==============================] - 371s 2s/step - loss: 0.1342 - accuracy: 0.9467 - val_loss: 0.5156 - val_accuracy: 0.7949\n",
      "Epoch 9/10\n",
      "163/163 [==============================] - 392s 2s/step - loss: 0.1258 - accuracy: 0.9507 - val_loss: 0.4906 - val_accuracy: 0.8237\n",
      "Epoch 10/10\n",
      "163/163 [==============================] - 412s 3s/step - loss: 0.1305 - accuracy: 0.9473 - val_loss: 0.5332 - val_accuracy: 0.8333\n"
     ]
    }
   ],
   "source": [
    "history = model.fit(datagen.flow(X_train,y_train, batch_size = 32) ,epochs = 10 , validation_data = datagen.flow(X_test, y_test))"
   ]
  },
  {
   "cell_type": "code",
   "execution_count": 13,
   "metadata": {},
   "outputs": [
    {
     "name": "stdout",
     "output_type": "stream",
     "text": [
      "20/20 [==============================] - 12s 586ms/step - loss: 0.2606 - accuracy: 0.9199\n"
     ]
    },
    {
     "data": {
      "text/plain": [
       "[0.26064497232437134, 0.9198718070983887]"
      ]
     },
     "execution_count": 13,
     "metadata": {},
     "output_type": "execute_result"
    }
   ],
   "source": [
    "model.evaluate(X_test,y_test)"
   ]
  },
  {
   "cell_type": "code",
   "execution_count": 12,
   "metadata": {},
   "outputs": [
    {
     "name": "stdout",
     "output_type": "stream",
     "text": [
      "1/1 [==============================] - 1s 845ms/step - loss: 0.3510 - accuracy: 0.8125\n"
     ]
    },
    {
     "data": {
      "text/plain": [
       "[0.351010799407959, 0.8125]"
      ]
     },
     "execution_count": 12,
     "metadata": {},
     "output_type": "execute_result"
    }
   ],
   "source": [
    "model.evaluate(X_val,y_val)"
   ]
  },
  {
   "cell_type": "code",
   "execution_count": 13,
   "metadata": {},
   "outputs": [
    {
     "name": "stdout",
     "output_type": "stream",
     "text": [
      "Model: \"sequential_3\"\n",
      "_________________________________________________________________\n",
      "Layer (type)                 Output Shape              Param #   \n",
      "=================================================================\n",
      "conv2d_15 (Conv2D)           (None, 150, 150, 64)      640       \n",
      "_________________________________________________________________\n",
      "batch_normalization_17 (Batc (None, 150, 150, 64)      256       \n",
      "_________________________________________________________________\n",
      "max_pooling2d_14 (MaxPooling (None, 75, 75, 64)        0         \n",
      "_________________________________________________________________\n",
      "dropout_14 (Dropout)         (None, 75, 75, 64)        0         \n",
      "_________________________________________________________________\n",
      "conv2d_16 (Conv2D)           (None, 75, 75, 64)        36928     \n",
      "_________________________________________________________________\n",
      "batch_normalization_18 (Batc (None, 75, 75, 64)        256       \n",
      "_________________________________________________________________\n",
      "max_pooling2d_15 (MaxPooling (None, 38, 38, 64)        0         \n",
      "_________________________________________________________________\n",
      "dropout_15 (Dropout)         (None, 38, 38, 64)        0         \n",
      "_________________________________________________________________\n",
      "conv2d_17 (Conv2D)           (None, 38, 38, 128)       73856     \n",
      "_________________________________________________________________\n",
      "batch_normalization_19 (Batc (None, 38, 38, 128)       512       \n",
      "_________________________________________________________________\n",
      "max_pooling2d_16 (MaxPooling (None, 19, 19, 128)       0         \n",
      "_________________________________________________________________\n",
      "dropout_16 (Dropout)         (None, 19, 19, 128)       0         \n",
      "_________________________________________________________________\n",
      "conv2d_18 (Conv2D)           (None, 19, 19, 256)       295168    \n",
      "_________________________________________________________________\n",
      "batch_normalization_20 (Batc (None, 19, 19, 256)       1024      \n",
      "_________________________________________________________________\n",
      "max_pooling2d_17 (MaxPooling (None, 10, 10, 256)       0         \n",
      "_________________________________________________________________\n",
      "dropout_17 (Dropout)         (None, 10, 10, 256)       0         \n",
      "_________________________________________________________________\n",
      "flatten_3 (Flatten)          (None, 25600)             0         \n",
      "_________________________________________________________________\n",
      "dense_6 (Dense)              (None, 256)               6553856   \n",
      "_________________________________________________________________\n",
      "batch_normalization_21 (Batc (None, 256)               1024      \n",
      "_________________________________________________________________\n",
      "dense_7 (Dense)              (None, 1)                 257       \n",
      "=================================================================\n",
      "Total params: 6,963,777\n",
      "Trainable params: 6,962,241\n",
      "Non-trainable params: 1,536\n",
      "_________________________________________________________________\n"
     ]
    }
   ],
   "source": [
    "#CNN Model with BatchNormalization and Dropout\n",
    "\n",
    "model2 = Sequential([\n",
    "    Conv2D(filters = 64,kernel_size = (3,3), strides = 1, padding='same', input_shape = (img_size,img_size,1), activation=\"relu\"),\n",
    "    BatchNormalization(),\n",
    "    MaxPooling2D(pool_size=(2,2),strides=2,padding='same'),\n",
    "    Dropout(0.2),\n",
    "    \n",
    "    Conv2D(filters = 64,kernel_size = (3,3), strides = 1, padding='same', activation=\"relu\"),\n",
    "    BatchNormalization(),\n",
    "    MaxPooling2D(pool_size=(2,2),strides=2,padding='same'),\n",
    "    Dropout(0.2),\n",
    "    \n",
    "    Conv2D(filters = 128,kernel_size = (3,3), strides = 1, padding='same', activation=\"relu\"),\n",
    "    BatchNormalization(),\n",
    "    MaxPooling2D(pool_size=(2,2),strides=2,padding='same'),\n",
    "    Dropout(0.2),\n",
    "    \n",
    "    Conv2D(filters = 256,kernel_size = (3,3), strides = 1, padding='same', activation=\"relu\"),\n",
    "    BatchNormalization(),\n",
    "    MaxPooling2D(pool_size=(2,2),strides=2,padding='same'),\n",
    "    Dropout(0.2),\n",
    "    \n",
    "    Flatten(),\n",
    "    Dense(units=256,activation='relu'),\n",
    "    BatchNormalization(),\n",
    "    Dense(units=1,activation='sigmoid')   \n",
    "])\n",
    "\n",
    "model2.compile(\n",
    "    optimizer='adam',\n",
    "    loss='binary_crossentropy',\n",
    "    metrics=['accuracy']\n",
    ")\n",
    "\n",
    "\n",
    "model2.summary()\n"
   ]
  },
  {
   "cell_type": "code",
   "execution_count": 15,
   "metadata": {},
   "outputs": [
    {
     "name": "stdout",
     "output_type": "stream",
     "text": [
      "Epoch 1/5\n",
      "163/163 [==============================] - 1069s 7s/step - loss: 0.2886 - accuracy: 0.8867 - val_loss: 19.0359 - val_accuracy: 0.6250\n",
      "Epoch 2/5\n",
      "163/163 [==============================] - 1057s 6s/step - loss: 0.2035 - accuracy: 0.9164 - val_loss: 9.6160 - val_accuracy: 0.6250\n",
      "Epoch 3/5\n",
      "163/163 [==============================] - 1102s 7s/step - loss: 0.1965 - accuracy: 0.9197 - val_loss: 3.6214 - val_accuracy: 0.6250\n",
      "Epoch 4/5\n",
      "163/163 [==============================] - 983s 6s/step - loss: 0.1838 - accuracy: 0.9294 - val_loss: 4.5761 - val_accuracy: 0.6250\n",
      "Epoch 5/5\n",
      "163/163 [==============================] - 848s 5s/step - loss: 0.1671 - accuracy: 0.9367 - val_loss: 1.7630 - val_accuracy: 0.4936\n"
     ]
    }
   ],
   "source": [
    "history2 = model2.fit(datagen.flow(X_train,y_train,batch_size=32),epochs=5,validation_data=datagen.flow(X_test,y_test))"
   ]
  },
  {
   "cell_type": "code",
   "execution_count": 16,
   "metadata": {},
   "outputs": [
    {
     "name": "stdout",
     "output_type": "stream",
     "text": [
      "20/20 [==============================] - 17s 734ms/step - loss: 1.1187 - accuracy: 0.5849\n"
     ]
    },
    {
     "data": {
      "text/plain": [
       "[1.118656039237976, 0.5849359035491943]"
      ]
     },
     "execution_count": 16,
     "metadata": {},
     "output_type": "execute_result"
    }
   ],
   "source": [
    "model2.evaluate(X_test,y_test)"
   ]
  },
  {
   "cell_type": "code",
   "execution_count": 17,
   "metadata": {},
   "outputs": [
    {
     "name": "stdout",
     "output_type": "stream",
     "text": [
      "1/1 [==============================] - 0s 397ms/step - loss: 1.3039 - accuracy: 0.4375\n"
     ]
    },
    {
     "data": {
      "text/plain": [
       "[1.303901195526123, 0.4375]"
      ]
     },
     "execution_count": 17,
     "metadata": {},
     "output_type": "execute_result"
    }
   ],
   "source": [
    "model2.evaluate(X_val,y_val)"
   ]
  }
 ],
 "metadata": {
  "kernelspec": {
   "display_name": "Python 3",
   "language": "python",
   "name": "python3"
  },
  "language_info": {
   "codemirror_mode": {
    "name": "ipython",
    "version": 3
   },
   "file_extension": ".py",
   "mimetype": "text/x-python",
   "name": "python",
   "nbconvert_exporter": "python",
   "pygments_lexer": "ipython3",
   "version": "3.7.6"
  }
 },
 "nbformat": 4,
 "nbformat_minor": 4
}
