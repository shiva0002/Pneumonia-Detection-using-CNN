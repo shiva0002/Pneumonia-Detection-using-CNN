{
 "cells": [
  {
   "cell_type": "code",
   "execution_count": 1,
   "metadata": {},
   "outputs": [],
   "source": [
    "import keras\n",
    "from keras.callbacks import ReduceLROnPlateau\n",
    "from keras.models import Sequential\n",
    "from keras.layers import Dense , Conv2D , MaxPooling2D , Flatten , Dropout , BatchNormalization\n",
    "from keras.applications import ResNet152V2 , MobileNetV2\n",
    "from keras.preprocessing.image import ImageDataGenerator\n",
    "import cv2\n",
    "import os\n",
    "import matplotlib.pyplot as plt\n",
    "import numpy as np"
   ]
  },
  {
   "cell_type": "code",
   "execution_count": 2,
   "metadata": {},
   "outputs": [],
   "source": [
    "labels = ['PNEUMONIA', 'NORMAL']\n",
    "img_size = 150\n",
    "\n",
    "def get_data(data_dir):\n",
    "    data = []\n",
    "    for label in labels:\n",
    "        path = os.path.join(data_dir,label)\n",
    "        class_num = labels.index(label)\n",
    "        for img in os.listdir(path):\n",
    "            try:\n",
    "                new_img = cv2.imread(os.path.join(path,img),cv2.IMREAD_GRAYSCALE)\n",
    "                resized_img = cv2.resize(new_img,(img_size,img_size))\n",
    "                data.append([resized_img,class_num])\n",
    "            except:\n",
    "                continue\n",
    "    return np.array(data)      \n",
    "    "
   ]
  },
  {
   "cell_type": "code",
   "execution_count": 3,
   "metadata": {},
   "outputs": [
    {
     "name": "stderr",
     "output_type": "stream",
     "text": [
      "C:\\Users\\Home\\anaconda3\\lib\\site-packages\\ipykernel_launcher.py:16: VisibleDeprecationWarning: Creating an ndarray from ragged nested sequences (which is a list-or-tuple of lists-or-tuples-or ndarrays with different lengths or shapes) is deprecated. If you meant to do this, you must specify 'dtype=object' when creating the ndarray\n",
      "  app.launch_new_instance()\n"
     ]
    }
   ],
   "source": [
    "train = get_data('E:/Chest X-Ray Images/chest_xray/chest_xray/train')\n",
    "test = get_data('E:/Chest X-Ray Images/chest_xray/chest_xray/test')\n",
    "val = get_data('E:/Chest X-Ray Images/chest_xray/chest_xray/val')"
   ]
  },
  {
   "cell_type": "code",
   "execution_count": 4,
   "metadata": {},
   "outputs": [],
   "source": [
    "X_train = []\n",
    "y_train = []\n",
    "\n",
    "X_test = []\n",
    "y_test = []\n",
    "\n",
    "X_val = []\n",
    "y_val = []\n",
    "\n",
    "for img,label in train:\n",
    "    X_train.append(img)\n",
    "    y_train.append(label)\n",
    "\n",
    "for img,label in test:\n",
    "    X_test.append(img)\n",
    "    y_test.append(label)\n",
    "\n",
    "for img,label in val:\n",
    "    X_val.append(img)\n",
    "    y_val.append(label)\n"
   ]
  },
  {
   "cell_type": "code",
   "execution_count": 5,
   "metadata": {},
   "outputs": [],
   "source": [
    "X_train = np.array(X_train)/255\n",
    "X_test = np.array(X_test)/255\n",
    "X_val = np.array(X_val)/255\n",
    "\n",
    "X_train = X_train.reshape(-1,img_size,img_size,1)\n",
    "X_test = X_test.reshape(-1,img_size,img_size,1)\n",
    "X_val = X_val.reshape(-1,img_size,img_size,1)\n",
    "\n",
    "y_train = np.array(y_train)\n",
    "y_test = np.array(y_test)\n",
    "y_val = np.array(y_val)\n"
   ]
  },
  {
   "cell_type": "code",
   "execution_count": 6,
   "metadata": {},
   "outputs": [],
   "source": [
    "# With data augmentation to prevent overfitting and handling the imbalance in dataset\n",
    "\n",
    "datagen = ImageDataGenerator(\n",
    "        featurewise_center=False,  # set input mean to 0 over the dataset\n",
    "        samplewise_center=False,  # set each sample mean to 0\n",
    "        featurewise_std_normalization=False,  # divide inputs by std of the dataset\n",
    "        samplewise_std_normalization=False,  # divide each input by its std\n",
    "        zca_whitening=False,  # apply ZCA whitening\n",
    "        rotation_range = 30,  # randomly rotate images in the range (degrees, 0 to 180)\n",
    "        zoom_range = 0.2, # Randomly zoom image \n",
    "        width_shift_range=0.1,  # randomly shift images horizontally (fraction of total width)\n",
    "        height_shift_range=0.1,  # randomly shift images vertically (fraction of total height)\n",
    "        horizontal_flip = True,  # randomly flip images\n",
    "        vertical_flip=False)  # randomly flip images\n",
    "\n",
    "\n",
    "datagen.fit(X_train)"
   ]
  },
  {
   "cell_type": "code",
   "execution_count": 7,
   "metadata": {},
   "outputs": [
    {
     "name": "stdout",
     "output_type": "stream",
     "text": [
      "Model: \"sequential\"\n",
      "_________________________________________________________________\n",
      "Layer (type)                 Output Shape              Param #   \n",
      "=================================================================\n",
      "conv2d (Conv2D)              (None, 150, 150, 64)      640       \n",
      "_________________________________________________________________\n",
      "batch_normalization (BatchNo (None, 150, 150, 64)      256       \n",
      "_________________________________________________________________\n",
      "max_pooling2d (MaxPooling2D) (None, 75, 75, 64)        0         \n",
      "_________________________________________________________________\n",
      "dropout (Dropout)            (None, 75, 75, 64)        0         \n",
      "_________________________________________________________________\n",
      "conv2d_1 (Conv2D)            (None, 75, 75, 64)        36928     \n",
      "_________________________________________________________________\n",
      "batch_normalization_1 (Batch (None, 75, 75, 64)        256       \n",
      "_________________________________________________________________\n",
      "max_pooling2d_1 (MaxPooling2 (None, 38, 38, 64)        0         \n",
      "_________________________________________________________________\n",
      "dropout_1 (Dropout)          (None, 38, 38, 64)        0         \n",
      "_________________________________________________________________\n",
      "conv2d_2 (Conv2D)            (None, 38, 38, 128)       73856     \n",
      "_________________________________________________________________\n",
      "batch_normalization_2 (Batch (None, 38, 38, 128)       512       \n",
      "_________________________________________________________________\n",
      "max_pooling2d_2 (MaxPooling2 (None, 19, 19, 128)       0         \n",
      "_________________________________________________________________\n",
      "dropout_2 (Dropout)          (None, 19, 19, 128)       0         \n",
      "_________________________________________________________________\n",
      "conv2d_3 (Conv2D)            (None, 19, 19, 256)       295168    \n",
      "_________________________________________________________________\n",
      "batch_normalization_3 (Batch (None, 19, 19, 256)       1024      \n",
      "_________________________________________________________________\n",
      "max_pooling2d_3 (MaxPooling2 (None, 10, 10, 256)       0         \n",
      "_________________________________________________________________\n",
      "dropout_3 (Dropout)          (None, 10, 10, 256)       0         \n",
      "_________________________________________________________________\n",
      "flatten (Flatten)            (None, 25600)             0         \n",
      "_________________________________________________________________\n",
      "dense (Dense)                (None, 256)               6553856   \n",
      "_________________________________________________________________\n",
      "batch_normalization_4 (Batch (None, 256)               1024      \n",
      "_________________________________________________________________\n",
      "dropout_4 (Dropout)          (None, 256)               0         \n",
      "_________________________________________________________________\n",
      "dense_1 (Dense)              (None, 128)               32896     \n",
      "_________________________________________________________________\n",
      "batch_normalization_5 (Batch (None, 128)               512       \n",
      "_________________________________________________________________\n",
      "dropout_5 (Dropout)          (None, 128)               0         \n",
      "_________________________________________________________________\n",
      "dense_2 (Dense)              (None, 1)                 129       \n",
      "=================================================================\n",
      "Total params: 6,997,057\n",
      "Trainable params: 6,995,265\n",
      "Non-trainable params: 1,792\n",
      "_________________________________________________________________\n"
     ]
    }
   ],
   "source": [
    "#CNN Model with BatchNormalization and Dropout\n",
    "\n",
    "model2 = Sequential([\n",
    "    Conv2D(filters = 64,kernel_size = (3,3), strides = 1, padding='same', input_shape = (img_size,img_size,1), activation=\"relu\"),\n",
    "    BatchNormalization(),\n",
    "    MaxPooling2D(pool_size=(2,2),strides=2,padding='same'),\n",
    "    Dropout(0.2),\n",
    "    \n",
    "    Conv2D(filters = 64,kernel_size = (3,3), strides = 1, padding='same', activation=\"relu\"),\n",
    "    BatchNormalization(),\n",
    "    MaxPooling2D(pool_size=(2,2),strides=2,padding='same'),\n",
    "    Dropout(0.2),\n",
    "    \n",
    "    Conv2D(filters = 128,kernel_size = (3,3), strides = 1, padding='same', activation=\"relu\"),\n",
    "    BatchNormalization(),\n",
    "    MaxPooling2D(pool_size=(2,2),strides=2,padding='same'),\n",
    "    Dropout(0.2),\n",
    "    \n",
    "    Conv2D(filters = 256,kernel_size = (3,3), strides = 1, padding='same', activation=\"relu\"),\n",
    "    BatchNormalization(),\n",
    "    MaxPooling2D(pool_size=(2,2),strides=2,padding='same'),\n",
    "    Dropout(0.2),\n",
    "    \n",
    "    Flatten(),\n",
    "    Dense(units=256,activation='relu'),\n",
    "    BatchNormalization(),\n",
    "    Dropout(0.5),\n",
    "    \n",
    "    Dense(units=128,activation='relu'),\n",
    "    BatchNormalization(),\n",
    "    Dropout(0.5),\n",
    "    \n",
    "    Dense(units=1,activation='sigmoid')   \n",
    "])\n",
    "\n",
    "model2.compile(\n",
    "    optimizer='adam',\n",
    "    loss='binary_crossentropy',\n",
    "    metrics=['accuracy']\n",
    ")\n",
    "\n",
    "\n",
    "model2.summary()\n"
   ]
  },
  {
   "cell_type": "code",
   "execution_count": 8,
   "metadata": {},
   "outputs": [],
   "source": [
    "reduce_lr = ReduceLROnPlateau(monitor='val_loss', factor=0.2,\n",
    "                              patience=5, min_lr=0.001)"
   ]
  },
  {
   "cell_type": "code",
   "execution_count": 9,
   "metadata": {},
   "outputs": [
    {
     "name": "stdout",
     "output_type": "stream",
     "text": [
      "Epoch 1/10\n",
      "163/163 [==============================] - 1096s 7s/step - loss: 0.6496 - accuracy: 0.7166 - val_loss: 1.2482 - val_accuracy: 0.6250\n",
      "Epoch 2/10\n",
      "163/163 [==============================] - 1041s 6s/step - loss: 0.3256 - accuracy: 0.8736 - val_loss: 2.2905 - val_accuracy: 0.6250\n",
      "Epoch 3/10\n",
      "163/163 [==============================] - 1036s 6s/step - loss: 0.2428 - accuracy: 0.9050 - val_loss: 2.2534 - val_accuracy: 0.6250\n",
      "Epoch 4/10\n",
      "163/163 [==============================] - 934s 6s/step - loss: 0.2230 - accuracy: 0.9159 - val_loss: 0.6621 - val_accuracy: 0.7548\n",
      "Epoch 5/10\n",
      "163/163 [==============================] - 849s 5s/step - loss: 0.1883 - accuracy: 0.9244 - val_loss: 3.1410 - val_accuracy: 0.6250\n",
      "Epoch 6/10\n",
      "163/163 [==============================] - 856s 5s/step - loss: 0.1875 - accuracy: 0.9250 - val_loss: 3.0017 - val_accuracy: 0.4343\n",
      "Epoch 7/10\n",
      "163/163 [==============================] - 851s 5s/step - loss: 0.1970 - accuracy: 0.9276 - val_loss: 2.4812 - val_accuracy: 0.6250\n",
      "Epoch 8/10\n",
      "163/163 [==============================] - 903s 6s/step - loss: 0.1842 - accuracy: 0.9313 - val_loss: 1.1024 - val_accuracy: 0.5929\n",
      "Epoch 9/10\n",
      "163/163 [==============================] - 1028s 6s/step - loss: 0.1651 - accuracy: 0.9397 - val_loss: 1.5551 - val_accuracy: 0.6362\n",
      "Epoch 10/10\n",
      "163/163 [==============================] - 1046s 6s/step - loss: 0.1663 - accuracy: 0.9435 - val_loss: 0.8035 - val_accuracy: 0.7163\n"
     ]
    }
   ],
   "source": [
    "history2 = model2.fit(datagen.flow(X_train,y_train,batch_size=32),epochs=10,validation_data=datagen.flow(X_test,y_test),callbacks=[reduce_lr])"
   ]
  },
  {
   "cell_type": "code",
   "execution_count": 10,
   "metadata": {},
   "outputs": [
    {
     "name": "stdout",
     "output_type": "stream",
     "text": [
      "20/20 [==============================] - 19s 759ms/step - loss: 0.4684 - accuracy: 0.7965\n"
     ]
    },
    {
     "data": {
      "text/plain": [
       "[0.468422532081604, 0.7964743375778198]"
      ]
     },
     "execution_count": 10,
     "metadata": {},
     "output_type": "execute_result"
    }
   ],
   "source": [
    "model2.evaluate(X_test,y_test)"
   ]
  },
  {
   "cell_type": "code",
   "execution_count": 11,
   "metadata": {},
   "outputs": [
    {
     "name": "stdout",
     "output_type": "stream",
     "text": [
      "1/1 [==============================] - 0s 442ms/step - loss: 0.8982 - accuracy: 0.6250\n"
     ]
    },
    {
     "data": {
      "text/plain": [
       "[0.8981797695159912, 0.625]"
      ]
     },
     "execution_count": 11,
     "metadata": {},
     "output_type": "execute_result"
    }
   ],
   "source": [
    "model2.evaluate(X_val,y_val)"
   ]
  },
  {
   "cell_type": "code",
   "execution_count": 12,
   "metadata": {},
   "outputs": [
    {
     "data": {
      "image/png": "[encoded data removed]",
      "text/plain": [
       "<Figure size 432x288 with 1 Axes>"
      ]
     },
     "metadata": {
      "needs_background": "light"
     },
     "output_type": "display_data"
    }
   ],
   "source": [
    "# plotting training set and validation test \n",
    "plt.plot(history2.history['loss'])\n",
    "plt.plot(history2.history['val_loss'])\n",
    "plt.title('model loss')\n",
    "plt.ylabel('loss')\n",
    "plt.xlabel('epoch')\n",
    "plt.legend(['train', 'test'], loc='upper left')\n",
    "plt.show()"
   ]
  }
 ],
 "metadata": {
  "kernelspec": {
   "display_name": "Python 3",
   "language": "python",
   "name": "python3"
  },
  "language_info": {
   "codemirror_mode": {
    "name": "ipython",
    "version": 3
   },
   "file_extension": ".py",
   "mimetype": "text/x-python",
   "name": "python",
   "nbconvert_exporter": "python",
   "pygments_lexer": "ipython3",
   "version": "3.7.6"
  }
 },
 "nbformat": 4,
 "nbformat_minor": 4
}
